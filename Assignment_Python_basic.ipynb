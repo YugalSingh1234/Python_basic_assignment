{
  "nbformat": 4,
  "nbformat_minor": 0,
  "metadata": {
    "colab": {
      "provenance": []
    },
    "kernelspec": {
      "name": "python3",
      "display_name": "Python 3"
    },
    "language_info": {
      "name": "python"
    }
  },
  "cells": [
    {
      "cell_type": "markdown",
      "source": [
        "# Python Basics Questions Theoretical\n",
        "\n",
        "1. What is Python, and why is it popular\n",
        "-> Python is a high-level, interpreted programming language known for its\n",
        "   simplicity, readability, and versatility. It was created by Guido van Rossum and first released in 1991. Python allows developers to express concepts in fewer lines of code compared to many other programming languages.\n",
        "   It is popular because it is great for beginners due to its straightforward syntax. It has versatile Applications: Web Development , Data Science & Machine Learning , Automation/Scripting, Game Development  , IoT and Robotics. Tons of tutorials, forums, and open-source projects. It is good for prototyping. Works well with C/C++, Java, .NET, and many APIs\n",
        "\n",
        "2. What is an interpreter in Python\n",
        "-> In Python, an interpreter is the program that reads and executes Python code\n",
        "   line by line. Unlike compiled languages (like C or C++), which need to be converted entirely into machine code before running, Python code is interpreted on the fly, making it easier to test and debug.\n",
        "\n",
        "3. What are pre-defined keywords in Python\n",
        "-> Pre-defined keywords in Python are reserved words that have special meaning\n",
        "   to the Python interpreter. You can’t use them as variable names, function names, or identifiers because Python uses them to define its syntax and structure. Eg-  if,  elif, else,  for, while, break, continue etc.\n",
        "\n",
        "4. Can keywords be used as variable names\n",
        "-> No— keywords cannot be used as variable names in Python. Since keywords have\n",
        "   special meaning in the language, using them as variable names will cause a syntax error.\n",
        "\n",
        "5. What is mutability in Python\n",
        "-> Mutability in Python refers to an object's ability to change its value after\n",
        "   creation. Mutable objects, like lists and dictionaries, can be altered in place. Immutable objects, like strings and tuples, cannot be changed after they are created; any modification creates a new object with a new value.\n",
        "\n",
        "6. Why are lists mutable, but tuples are immutable\n",
        "-> Lists are mutable and tuples are immutable in Python because  Lists are  \n",
        "   meant to store collections of items that can change. You might need to add, remove, or modify elements frequently. Python gives lists methods like .append(), .remove(), and indexing to change contents in place. But Tuples are designed for fixed data, like coordinates or configurations. Immutability makes them faster and safer, especially when used as keys in dictionaries or elements in sets.\n",
        "\n",
        "7. What is the difference between “==” and “is” operators in Python\n",
        "-> In Python, the == and is operators are used for comparison, but they serve\n",
        "   different purposes. The == operator checks for value equality, meaning it returns True if two variables have the same content or value, even if they are different objects in memory. On the other hand, the is operator checks for identity equality, which means it returns True only if both variables point to the exact same object in memory.\n",
        "\n",
        "8. What are logical operators in Python\n",
        "-> Logical operators in Python are used to combine conditional statements and\n",
        "   return Boolean values (True or False). They are most commonly used in if statements or expressions involving conditions. The three main logical operators are and, or, and not. The and operator returns True only if both conditions are true, while the or operator returns True if at least one of the conditions is true. The not operator is used to reverse the result of a condition—if a condition is True, not makes it False, and vice versa.\n",
        "\n",
        "9. What is type casting in Python\n",
        "-> Type casting in Python refers to converting the data type of a value from  \n",
        "   one type to another. This is useful when you need to perform operations between different data types or when a specific type is required by a function or expression. Python supports both implicit and explicit type casting.\n",
        "\n",
        "10. What is the difference between implicit and explicit type casting\n",
        "-> IMPLICIT TYPE CASTING\n",
        "   a.\tDone automatically by Python.\n",
        "   b.\tHappens during operations involving compatible data types.\n",
        "   c.\tNo need for the programmer to write extra code.\n",
        "   d.\tAvoids data loss by promoting smaller types to larger ones (e.g., int to\n",
        "      float).\n",
        "   EXPLICIT TYPE CASTING\n",
        "   a.\tDone manually by the programmer.\n",
        "   b.\tRequires use of type conversion functions: int(), float(), str(), bool(),\n",
        "      etc.\n",
        "   c.\tUseful when converting between incompatible types (like str to int).\n",
        "   d.\tCan lead to errors if conversion is not valid (e.g., int(\"abc\")).\n",
        "\n",
        "11. What is the purpose of conditional statements in Python\n",
        "-> The purpose of conditional statements in Python is to allow the program to\n",
        "   make decisions and execute certain blocks of code based on whether a condition is true or false. They are essential for controlling the flow of a program and adding logic that reacts to different inputs or situations. Python uses if, elif, and else statements to evaluate conditions. If a condition is true, the corresponding code block runs; otherwise, the program moves to the next condition or the else block. This enables dynamic behavior, such as validating user input, responding to choices, or handling different cases within a program.\n",
        "12. How does the elif statement work\n",
        "-> The elif statement in Python stands for \"else if\" and is used to check\n",
        "   multiple conditions after an initial if statement. It only runs if the if condition is False, and it checks its own condition. If the elif condition is True, its block of code executes and the rest of the elif or else blocks are skipped.\n",
        "13. What is the difference between for and while loops\n",
        "-> The main difference between for and while loops in Python lies in how they\n",
        "  control the flow of iteration.\n",
        "  FOR LOOPS\n",
        "  •\tUsed when you know the number of iterations beforehand or you are looping over a fixed set of items.\n",
        "  •\tThe loop automatically ends when the sequence is exhausted.\n",
        "  WHILE LOOPS\n",
        "  •\tContinues to loop as long as a condition is True.\n",
        "  •\tTypically used when you don't know how many iterations you'll need, but you have a condition to check that controls the loop.\n",
        "  •\tThe loop will continue indefinitely if the condition never becomes False, potentially leading to an infinite loop.\n",
        "\n",
        "14. Describe a scenario where a while loop is more suitable than a for loop.\n",
        "-> A while loop is more suitable than a for loop when you don't know the exact\n",
        "   number of iterations in advance and need the loop to run based on a dynamic condition. Suppose you want to repeatedly ask the user to enter a valid password until they provide one that meets certain criteria (e.g., it must be at least 8 characters long). Since you don't know how many attempts the user will need, a while loop is ideal."
      ],
      "metadata": {
        "id": "82aJKf1tl7pf"
      }
    },
    {
      "cell_type": "markdown",
      "source": [
        "# Python Basics Questions Practical Questions\n"
      ],
      "metadata": {
        "id": "mm4c3jSfpU3j"
      }
    },
    {
      "cell_type": "code",
      "execution_count": 2,
      "metadata": {
        "colab": {
          "base_uri": "https://localhost:8080/"
        },
        "id": "FuwybRs6rZAI",
        "outputId": "e0291fec-95d4-4a20-e35d-8b5220aa2674"
      },
      "outputs": [
        {
          "output_type": "stream",
          "name": "stdout",
          "text": [
            "Hello, world!\n"
          ]
        }
      ],
      "source": [
        "# 1. Write a Python program to print \"Hello, World!\"\n",
        "print(\"Hello, world!\")"
      ]
    },
    {
      "cell_type": "code",
      "source": [
        "# 2. Write a Python program that displays your name and age.\n",
        "name = input(\"enter the name \")\n",
        "age = int(input(\"enter the age \"))\n",
        "print(f\"my name is {name} and my age is {age}\")"
      ],
      "metadata": {
        "colab": {
          "base_uri": "https://localhost:8080/"
        },
        "id": "NhK61-yQsNu7",
        "outputId": "c1f2507f-3be1-4292-d3d9-5e696edc12f9"
      },
      "execution_count": 3,
      "outputs": [
        {
          "output_type": "stream",
          "name": "stdout",
          "text": [
            "enter the name yogal\n",
            "enter the age 24\n",
            "my name is {name} and my age is {age}\n"
          ]
        }
      ]
    },
    {
      "cell_type": "code",
      "source": [
        "# 3. Write code to print all the pre-defined keywords in Python using the keyword library\n",
        "import keyword\n",
        "\n",
        "print(\"Python keywords:\")\n",
        "for kw in keyword.kwlist:\n",
        "    print(kw)"
      ],
      "metadata": {
        "colab": {
          "base_uri": "https://localhost:8080/"
        },
        "id": "Qq3aA_hvc6bD",
        "outputId": "a27645c9-1d9e-48f2-e464-f5c2623eb58f"
      },
      "execution_count": 2,
      "outputs": [
        {
          "output_type": "stream",
          "name": "stdout",
          "text": [
            "Python keywords:\n",
            "False\n",
            "None\n",
            "True\n",
            "and\n",
            "as\n",
            "assert\n",
            "async\n",
            "await\n",
            "break\n",
            "class\n",
            "continue\n",
            "def\n",
            "del\n",
            "elif\n",
            "else\n",
            "except\n",
            "finally\n",
            "for\n",
            "from\n",
            "global\n",
            "if\n",
            "import\n",
            "in\n",
            "is\n",
            "lambda\n",
            "nonlocal\n",
            "not\n",
            "or\n",
            "pass\n",
            "raise\n",
            "return\n",
            "try\n",
            "while\n",
            "with\n",
            "yield\n"
          ]
        }
      ]
    },
    {
      "cell_type": "code",
      "source": [
        "# 4. Write a program that checks if a given word is a Python keyword.\n",
        "import keyword\n",
        "\n",
        "# Get input from the user and remove leading/trailing whitespace\n",
        "word = input(\"Enter a word to check: \").strip()\n",
        "\n",
        "# Check if the word is a Python keyword (case-sensitive check)\n",
        "if keyword.iskeyword(word):\n",
        "    print(f\"'{word}' is a Python keyword.\")\n",
        "else:\n",
        "    print(f\"'{word}' is not a Python keyword.\")\n"
      ],
      "metadata": {
        "colab": {
          "base_uri": "https://localhost:8080/"
        },
        "id": "y9eL91ZKeS2u",
        "outputId": "3af7d5ce-1be7-48d7-a0ef-7711217d9da0"
      },
      "execution_count": 5,
      "outputs": [
        {
          "output_type": "stream",
          "name": "stdout",
          "text": [
            "Enter a word to check: loki\n",
            "'loki' is not a Python keyword.\n"
          ]
        }
      ]
    },
    {
      "cell_type": "code",
      "source": [
        "#  5. Create a list and tuple in Python, and demonstrate how attempting to change an element works differentlyfor each.\n",
        "\n",
        "list1 = [1,2,3,4,5,5,6,7,8]\n",
        "tuple1 = (1,2,3,4,5,6,7,8)\n",
        "list1[2] = \"yugal\"\n",
        "print(list1)\n",
        "# tuple1[2] = \"yugal\" # at this line if removed the content it will show error\n",
        "print(list1)\n",
        "print(tuple1)\n"
      ],
      "metadata": {
        "colab": {
          "base_uri": "https://localhost:8080/"
        },
        "id": "Hoz7w-sQiCJz",
        "outputId": "2e54ea19-2da7-488e-fe3a-9f6e24a6e4a0"
      },
      "execution_count": 15,
      "outputs": [
        {
          "output_type": "stream",
          "name": "stdout",
          "text": [
            "[1, 2, 'yugal', 4, 5, 5, 6, 7, 8]\n",
            "[1, 2, 'yugal', 4, 5, 5, 6, 7, 8]\n",
            "(1, 2, 3, 4, 5, 6, 7, 8)\n"
          ]
        }
      ]
    },
    {
      "cell_type": "code",
      "source": [
        "# 6. Write a function to demonstrate the behavior of mutable and immutable arguments.\n",
        "# use help of online sources to understad what is mutable and immutable\n",
        "\n",
        "\n",
        "\n",
        "# Mutable example (list)\n",
        "original_list = [1, 2, 3]\n",
        "copy_list = original_list  # Both point to same memory\n",
        "copy_list.append(4)        # Directly modify the copy\n",
        "\n",
        "print(\"Mutable Example:\")\n",
        "print(\"Original list:\", original_list)  # Shows [1, 2, 3, 4]\n",
        "print(\"IDs:\", id(original_list), \"==\", id(copy_list))\n",
        "\n",
        "# Immutable example (integer)\n",
        "original_num = 10\n",
        "copy_num = original_num    # Copy gets value but new memory\n",
        "copy_num += 5              # Creates new object\n",
        "\n",
        "print(\"\\nImmutable Example:\")\n",
        "print(\"Original number:\", original_num)  # Still 10\n",
        "print(\"IDs:\", id(original_num), \"!=\", id(copy_num))"
      ],
      "metadata": {
        "colab": {
          "base_uri": "https://localhost:8080/"
        },
        "id": "ss1MAivMrQ1g",
        "outputId": "0e53ca50-8f4e-4acc-a5d9-a09d6b4cfda7"
      },
      "execution_count": 15,
      "outputs": [
        {
          "output_type": "stream",
          "name": "stdout",
          "text": [
            "Mutable Example:\n",
            "Original list: [1, 2, 3, 4]\n",
            "IDs: 135773548983488 == 135773548983488\n",
            "\n",
            "Immutable Example:\n",
            "Original number: 10\n",
            "IDs: 10751144 != 10751304\n"
          ]
        }
      ]
    },
    {
      "cell_type": "code",
      "source": [
        "# 7. Write a program that performs basic arithmetic operations on two user-input numbers.\n",
        "\n",
        "# Inputs\n",
        "num1 = float(input(\"Enter the first number: \"))\n",
        "num2 = float(input(\"Enter the second number: \"))\n",
        "\n",
        "# Calculations\n",
        "sum_result = num1 + num2\n",
        "difference = num1 - num2\n",
        "product = num1 * num2\n",
        "\n",
        "# Results\n",
        "print(f\"\\nSum: {sum_result}\")\n",
        "print(f\"Difference: {difference}\")\n",
        "print(f\"Product: {product}\")\n",
        "\n",
        "# Handle division carefully\n",
        "if num2 != 0:\n",
        "    quotient = num1 / num2\n",
        "    print(f\"Quotient: {quotient}\")\n",
        "else:\n",
        "    print(\"Quotient: Cannot divide by zero\")"
      ],
      "metadata": {
        "colab": {
          "base_uri": "https://localhost:8080/"
        },
        "id": "cayUr8uWEnJN",
        "outputId": "002a7cf1-0946-4ccf-8a7f-925c798cb63c"
      },
      "execution_count": 1,
      "outputs": [
        {
          "output_type": "stream",
          "name": "stdout",
          "text": [
            "Enter the first number: 10.3\n",
            "Enter the second number: 23.1\n",
            "\n",
            "Sum: 33.400000000000006\n",
            "Difference: -12.8\n",
            "Product: 237.93000000000004\n",
            "Quotient: 0.4458874458874459\n"
          ]
        }
      ]
    },
    {
      "cell_type": "code",
      "source": [
        "# 8. Write a program to demonstrate the use of logical operators.\n",
        "# Define two boolean values\n",
        "a = True\n",
        "b = False\n",
        "\n",
        "# Demonstrate logical operators\n",
        "print(f\"a = {a}, b = {b}\")\n",
        "print(\"\\nLogical AND (a and b):\", a and b)\n",
        "print(\"Logical OR  (a or b): \", a or b)\n",
        "print(\"Logial NOT (not a):  \", not a)\n",
        "print(\"Logical NOT (not b):  \", not b)"
      ],
      "metadata": {
        "colab": {
          "base_uri": "https://localhost:8080/"
        },
        "id": "Fd-1uwUmGaLd",
        "outputId": "dc1467e8-6a12-49c9-eb9e-04bc84f94086"
      },
      "execution_count": 2,
      "outputs": [
        {
          "output_type": "stream",
          "name": "stdout",
          "text": [
            "a = True, b = False\n",
            "\n",
            "Logical AND (a and b): False\n",
            "Logical OR  (a or b):  True\n",
            "Logical NOT (not a):   False\n",
            "Logical NOT (not b):   True\n"
          ]
        }
      ]
    },
    {
      "cell_type": "code",
      "source": [
        "# 9. Write a Python program to convert user input from string to integer, float, and boolean types.\n",
        "# Get user input\n",
        "user_input = input(\"Enter a value: \")\n",
        "\n",
        "# Convert to integer\n",
        "int_value = int(user_input)\n",
        "\n",
        "# Convert to float\n",
        "float_value = float(user_input)\n",
        "\n",
        "# Convert to boolean\n",
        "bool_value = bool(user_input)\n",
        "\n",
        "# Display results\n",
        "print(\"\\nConversion Results:\")\n",
        "print(f\"Integer: {int_value}\")\n",
        "print(f\"Float:   {float_value}\")\n",
        "print(f\"Boolean: {bool_value}\")"
      ],
      "metadata": {
        "colab": {
          "base_uri": "https://localhost:8080/"
        },
        "id": "rqxWDkIcHIJg",
        "outputId": "04239f07-b615-4217-9634-cd54243d662d"
      },
      "execution_count": 3,
      "outputs": [
        {
          "output_type": "stream",
          "name": "stdout",
          "text": [
            "Enter a value: 12\n",
            "\n",
            "Conversion Results:\n",
            "Integer: 12\n",
            "Float:   12.0\n",
            "Boolean: True\n"
          ]
        }
      ]
    },
    {
      "cell_type": "code",
      "source": [
        "# 10. Write code to demonstrate type casting with list elements\n",
        "\n",
        "list1 = [ 42,3.14,\"100\",\"hello\",True,\"3.14\",\"0\",\"\" ]\n",
        "\n",
        "print(\"Type Casting Demonstrations:\\n\")\n",
        "\n",
        "for element in list1:\n",
        "    print(f\"Original: {repr(element)} ({type(element).__name__})\")\n",
        "\n",
        "    # To Integer\n",
        "    try: print(f\"→ int:    {int(element)}\")\n",
        "    except: print(\"→ int:    Conversion failed\")\n",
        "\n",
        "    # To Float\n",
        "    try: print(f\"→ float:  {float(element)}\")\n",
        "    except: print(\"→ float:  Conversion failed\")\n",
        "\n",
        "    # To Boolean\n",
        "    try: print(f\"→ bool:   {bool(element)}\")\n",
        "    except: print(\"→ bool:   Conversion failed\")\n",
        "\n",
        "    # To String\n",
        "    print(f\"→ string: {str(element)}\")\n",
        "    print(\"-\" * 40)"
      ],
      "metadata": {
        "colab": {
          "base_uri": "https://localhost:8080/"
        },
        "id": "90ontbAlN36K",
        "outputId": "5254e8b8-0ed9-48fb-a196-59ac52e4adce"
      },
      "execution_count": 7,
      "outputs": [
        {
          "output_type": "stream",
          "name": "stdout",
          "text": [
            "Type Casting Demonstrations:\n",
            "\n",
            "Original: 42 (type(element))\n",
            "→ int:    42\n",
            "→ float:  42.0\n",
            "→ bool:   True\n",
            "→ string: 42\n",
            "----------------------------------------\n",
            "Original: 3.14 (type(element))\n",
            "→ int:    3\n",
            "→ float:  3.14\n",
            "→ bool:   True\n",
            "→ string: 3.14\n",
            "----------------------------------------\n",
            "Original: '100' (type(element))\n",
            "→ int:    100\n",
            "→ float:  100.0\n",
            "→ bool:   True\n",
            "→ string: 100\n",
            "----------------------------------------\n",
            "Original: 'hello' (type(element))\n",
            "→ int:    Conversion failed\n",
            "→ float:  Conversion failed\n",
            "→ bool:   True\n",
            "→ string: hello\n",
            "----------------------------------------\n",
            "Original: True (type(element))\n",
            "→ int:    1\n",
            "→ float:  1.0\n",
            "→ bool:   True\n",
            "→ string: True\n",
            "----------------------------------------\n",
            "Original: '3.14' (type(element))\n",
            "→ int:    Conversion failed\n",
            "→ float:  3.14\n",
            "→ bool:   True\n",
            "→ string: 3.14\n",
            "----------------------------------------\n",
            "Original: '0' (type(element))\n",
            "→ int:    0\n",
            "→ float:  0.0\n",
            "→ bool:   True\n",
            "→ string: 0\n",
            "----------------------------------------\n",
            "Original: '' (type(element))\n",
            "→ int:    Conversion failed\n",
            "→ float:  Conversion failed\n",
            "→ bool:   False\n",
            "→ string: \n",
            "----------------------------------------\n"
          ]
        }
      ]
    },
    {
      "cell_type": "code",
      "source": [
        "# 11. Write a program that checks if a number is positive, negative, or zero.\n",
        "\n",
        "num = float(input(\"Enter a number: \"))\n",
        "\n",
        "if num > 0:\n",
        "    print(f\"{num} is Positive\")\n",
        "elif num < 0:\n",
        "    print(f\"{num} is Negative\")\n",
        "else:\n",
        "    print(f\"{num} is Zero\")"
      ],
      "metadata": {
        "colab": {
          "base_uri": "https://localhost:8080/"
        },
        "id": "x9c3MQxJRCa2",
        "outputId": "867d73c5-f574-48a5-93e5-303818f0804e"
      },
      "execution_count": 8,
      "outputs": [
        {
          "output_type": "stream",
          "name": "stdout",
          "text": [
            "Enter a number: -16\n",
            "-16.0 is Negative\n"
          ]
        }
      ]
    },
    {
      "cell_type": "code",
      "source": [
        "# 12. Write a for loop to print numbers from 1 to 10.\n",
        "for i in range(1,11):\n",
        "    print(i)\n"
      ],
      "metadata": {
        "colab": {
          "base_uri": "https://localhost:8080/"
        },
        "id": "yJksn9VOSC6W",
        "outputId": "106cba63-e73f-43b7-9b88-bcd24b9f28a3"
      },
      "execution_count": 11,
      "outputs": [
        {
          "output_type": "stream",
          "name": "stdout",
          "text": [
            "1\n",
            "2\n",
            "3\n",
            "4\n",
            "5\n",
            "6\n",
            "7\n",
            "8\n",
            "9\n",
            "10\n"
          ]
        }
      ]
    },
    {
      "cell_type": "code",
      "source": [
        "# 13. Write a Python program to find the sum of all even numbers between 1 and 50.\n",
        "# i am taking 50 under the code\n",
        "sum_even = 0\n",
        "\n",
        "for num in range(2, 51, 2):\n",
        "    sum_even += num\n",
        "\n",
        "print(\"Sum of even numbers between 1 and 50:\", sum_even)"
      ],
      "metadata": {
        "colab": {
          "base_uri": "https://localhost:8080/"
        },
        "id": "7pNkhRAgTrzQ",
        "outputId": "0be96881-564f-4191-e490-fdbbe95ae3e6"
      },
      "execution_count": 12,
      "outputs": [
        {
          "output_type": "stream",
          "name": "stdout",
          "text": [
            "Sum of even numbers between 1 and 50: 650\n"
          ]
        }
      ]
    },
    {
      "cell_type": "code",
      "source": [
        "# 14. Write a program to reverse a string using a while loop.\n",
        "original = input(\"Enter a string: \")\n",
        "\n",
        "\n",
        "reversed_str = \"\"\n",
        "index = len(original) - 1  # Start from last character\n",
        "\n",
        "# Reverse using while loop\n",
        "while index >= 0:\n",
        "    reversed_str += original[index]\n",
        "    index -= 1\n",
        "\n",
        "# Display result\n",
        "print(\"Reversed string:\", reversed_str)"
      ],
      "metadata": {
        "id": "2zwVSAE_Ux9s"
      },
      "execution_count": null,
      "outputs": []
    },
    {
      "cell_type": "code",
      "source": [
        "# 15. Write a Python program to calculate the factorial of a number provided by the user using a while loop.\n",
        "\n",
        "n = int(input(\"Enter any number: \"))\n",
        "\n",
        "f = 1\n",
        "while n >= 1:\n",
        "    f *= n\n",
        "    n -= 1\n",
        "\n",
        "print(f)"
      ],
      "metadata": {
        "colab": {
          "base_uri": "https://localhost:8080/"
        },
        "id": "RLHmyt1sXd4H",
        "outputId": "729ef1b2-dc40-43a5-9c8d-13065e9be82d"
      },
      "execution_count": 14,
      "outputs": [
        {
          "output_type": "stream",
          "name": "stdout",
          "text": [
            "Enter any number: 5\n",
            "120\n"
          ]
        }
      ]
    }
  ]
}